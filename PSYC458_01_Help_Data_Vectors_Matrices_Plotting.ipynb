{
  "nbformat": 4,
  "nbformat_minor": 0,
  "metadata": {
    "colab": {
      "name": "PSYC458_01_Help_Data_Vectors_Matrices_Plotting.ipynb",
      "provenance": [],
      "collapsed_sections": [],
      "toc_visible": true,
      "authorship_tag": "ABX9TyNVBJORTsPuXEsD8cWIp2km",
      "include_colab_link": true
    },
    "kernelspec": {
      "name": "python3",
      "display_name": "Python 3"
    },
    "language_info": {
      "name": "python"
    }
  },
  "cells": [
    {
      "cell_type": "markdown",
      "metadata": {
        "id": "view-in-github",
        "colab_type": "text"
      },
      "source": [
        "<a href=\"https://colab.research.google.com/github/neuralabc/PythonTools4Neuroimaging/blob/main/PSYC458_01_Help_Data_Vectors_Matrices_Plotting.ipynb\" target=\"_parent\"><img src=\"https://colab.research.google.com/assets/colab-badge.svg\" alt=\"Open In Colab\"/></a>"
      ]
    },
    {
      "cell_type": "markdown",
      "source": [
        "# Working with data\n",
        "This week we will walk through some exercises to introduce you to how data is represented, accessed, changed, and plotted within python. We will use two of the **most commonly** used packages in all of scientific computation.  \n",
        "## numpy and matplotlib\n",
        "- Working with numerical data in Python: https://numpy.org/\n",
        "  - numpy is **the** fundamental package for working with numerical data in python. It has many many many functions, most of which we will not talk about or use. The documentation is, in general, excellent, and accomplishing the task that you need to accomplish can likely be done in more than one way. The number of functions in numpy can make working with it confusing. Looking things up, exploring functions, and *most importantly* testing with toy examples that you can easily understand are the best ways to learn about and use these functions properly.\n",
        "  - to import numpy, execute the following command in a code block: `import numpy as np`\n",
        "    - `import numpy` tells the notebook that you would like to have access to the functions within numpy, `as np` tells it that you would like to create an alias to numpy functions. This is just so that you do not have to type `numpy` many many times when you want to access functions. In this case, by common convention, we use `np` as the alias for numpy. Once this command has been run, you can refer to any functions within numpy by typing `np.`\n",
        "\n",
        "- Plotting in Python: https://matplotlib.org/\n",
        "  - matplotlib was initially designed to cover the same functionality of matlab plotting. It has since diverged a bit, but it is generaly the case that anything that you can plot with matlab can be plotted with matplotib\n",
        "  - we generally use the matplotlib.pyplot functions, which are commonly imported as follows: `import matplotlib.pyplot as plt`\n",
        "    - alternatively, in notebooks you can use a shortcut _magic command_: `%pyplot`\n"
      ],
      "metadata": {
        "id": "orxZg9XQsKQx"
      }
    },
    {
      "cell_type": "code",
      "execution_count": null,
      "metadata": {
        "id": "-NQe_Dnqr7Ny"
      },
      "outputs": [],
      "source": [
        "#lets get started, import numpy here, and create an alias for it so that you don't need to type \"numpy\" all the time\n",
        "import numpy as np"
      ]
    },
    {
      "cell_type": "code",
      "source": [
        "#now, refer to a specific function within numpy\n",
        "np.arange(0,10) #this function creates a vector (1d array that starts at 0 and has 10 elements)"
      ],
      "metadata": {
        "id": "DacfVg9XsJxR"
      },
      "execution_count": null,
      "outputs": []
    },
    {
      "cell_type": "code",
      "source": [
        ""
      ],
      "metadata": {
        "id": "02ASB98jvqCh"
      },
      "execution_count": null,
      "outputs": []
    },
    {
      "cell_type": "markdown",
      "source": [
        "# 1. Getting help\n",
        "1. Within python\n",
        "  - once you have imported a package, you can use `tab completion` to see what functions are available at the current level (note, you can think of the package as giving you access to a single directory, using the `.` syntax allows you look into the next subdirectory of the package to find functions)\n",
        "    - in google colab, you simply need to type the package name followed by a dot (e.g., `np.`) and wait for a small popup window to show you what functions are available at this level. You can also traverse to deeper levels to see what is there.\n",
        "    - once you have found your function, you can use the `?` character to request the in-line help for this function\n",
        "2. On the web\n",
        "  - package documentation: the official documentation of the package \n",
        "    - e.g. web search: https://duckduckgo.com/?q=create+random+vector+with+numpy&t=brave&ia=web\n",
        "    - first hit gives you access to the official documentation, take a look at it\n",
        "      - `numpy.random.rand()`, in our case this would be `np.random.rand()`\n",
        "        - this tells us we are accessing the function `rand` within the \"subdirectory\" `random` within the \"directory\" `np` (this is our alias for `numpy`)\n",
        "    - in general, you can find most official documentation by searching for the package name and `documentation`\n",
        "  - stack exchange: loads of information here, but sometimes at a very high level\n",
        "    - https://stackexchange.com/\n",
        "  - other web sites: any web search will likely produce **MANY** hits, you will have to filter through them to find the information that you want.\n",
        "3. Talk to your colleagues!\n"
      ],
      "metadata": {
        "id": "lQaFzP_rwINQ"
      }
    },
    {
      "cell_type": "code",
      "source": [
        "#try tab completion here, using numpy.random\n",
        "#type the \".\" then wait while the notebook loads the available functions at this level\n",
        "#once they are there, use the up and down arrows to navigate\n",
        "np."
      ],
      "metadata": {
        "id": "wNiG1_czyDNj"
      },
      "execution_count": null,
      "outputs": []
    },
    {
      "cell_type": "code",
      "source": [
        "# type np.arange() and then wait, you should see a popup with some brief contextual help"
      ],
      "metadata": {
        "id": "nWR6QsGN4cm4"
      },
      "execution_count": null,
      "outputs": []
    },
    {
      "cell_type": "code",
      "source": [
        "#now learn about a specific function by putting \"?\" at the end of it\n",
        "np.random.rand? #check out the help popup! compare that to the results from the official package from your earlier "
      ],
      "metadata": {
        "id": "HCgnredRyvIW"
      },
      "execution_count": null,
      "outputs": []
    },
    {
      "cell_type": "code",
      "source": [
        "#based on the help, lets use this function to create a random vector\n",
        "vec_length = 10 #first define a variable that will determine the length of the vector (i.e., the number of values in the vector)\n",
        "vec = np.random.rand(vec_length) # here we assign the output of the np.random.rand call to the variable \"vec\"\n",
        "#lets check its shape to make sure we did what we thought we were doing\n",
        "vec.shape #if you leave a command like this at the end of the code block, you will see the output of running the command. If you ran something else after it you would not\n",
        "#in that case, you could you the \"print\" command to print the output of the command - print just prints output back to the screen for you"
      ],
      "metadata": {
        "id": "A2zkmURLzofQ"
      },
      "execution_count": null,
      "outputs": []
    },
    {
      "cell_type": "markdown",
      "source": [
        "# A side note on using the `print` statment\n",
        "  - put commands or variables inside the print statement `print()` to ensure that they are output to the screen. This **does not** save any results, it **only** presents it to the screen for you to see"
      ],
      "metadata": {
        "id": "8AIcq5Im4_8z"
      }
    },
    {
      "cell_type": "code",
      "source": [
        "#compare this cell to the following cell\n",
        "2*2\n",
        "\"Hi there! You won't see this because it is not the last command to be run in the cell and you didn't call print before it!\"\n",
        "2*100"
      ],
      "metadata": {
        "id": "PJey-K0U0Bb9"
      },
      "execution_count": null,
      "outputs": []
    },
    {
      "cell_type": "code",
      "source": [
        "#compare this cell to the following cell\n",
        "print(2*2)\n",
        "print(\"Hi there!\")\n",
        "2*100"
      ],
      "metadata": {
        "id": "KU_bRNd90rLk"
      },
      "execution_count": null,
      "outputs": []
    },
    {
      "cell_type": "markdown",
      "source": [
        "# 2. Working with vectors"
      ],
      "metadata": {
        "id": "jvc0lFEC5TX-"
      }
    },
    {
      "cell_type": "code",
      "source": [
        "#ok, now lets see what that vector we created looks like, we can print it!\n",
        "print(vec) #yep, those are numbers between 0 and 1"
      ],
      "metadata": {
        "id": "HPt_IfPW1wAg"
      },
      "execution_count": null,
      "outputs": []
    },
    {
      "cell_type": "code",
      "source": [
        "#we can also plot it with matplotlib \n",
        "import matplotlib.pyplot as plt\n",
        "plt.plot? #lets pull up the help\n",
        "plt.figure() #create a new figure first (you don't need to do this if you don't have any other figures, plt.plot will do this automatically for you)\n",
        "plt.plot(vec)\n",
        "\n",
        "#lets give it some axes too\n",
        "plt.figure() #first create a new figure, otherwise we would plot over top of the previous figure\n",
        "plt.plot(vec) #plot that data\n",
        "plt.xlabel(\"Time\")\n",
        "plt.ylabel(\"Interest in cats\")"
      ],
      "metadata": {
        "id": "NTzjMJho16E0"
      },
      "execution_count": null,
      "outputs": []
    },
    {
      "cell_type": "code",
      "source": [
        "#lets create some more data, this time two vectors that are correlated with eachother\n",
        "# to do this, we need to use another function to generate correlated data\n",
        "#from: https://stackoverflow.com/questions/18683821/generating-random-correlated-x-and-y-points-using-numpy\n",
        "import numpy as np\n",
        "\n",
        "num_els = 1000 #number of elements in each vector\n",
        "xx = np.array([0, 1]) #range of x-values\n",
        "yy = np.array([0, 20]) #range of y-values\n",
        "means = [xx.mean(), yy.mean()]  \n",
        "stds = [xx.std() / 3, yy.std() / 3]\n",
        "corr = 0.8         # correlation\n",
        "covs = [[stds[0]**2          , stds[0]*stds[1]*corr], \n",
        "        [stds[0]*stds[1]*corr,           stds[1]**2]] \n",
        "\n",
        "var1, var2 = np.random.multivariate_normal(means, covs, num_els).T\n",
        "plt.plot(var1,var2,'.')"
      ],
      "metadata": {
        "id": "Q-HDWYzJ2BY6"
      },
      "execution_count": null,
      "outputs": []
    },
    {
      "cell_type": "code",
      "source": [
        "#we asked for a specific correlation between x and y, lets check out if it worked\n",
        "np.corrcoef?\n",
        "print(np.corrcoef(var1,var2))"
      ],
      "metadata": {
        "id": "sayEv36536DW"
      },
      "execution_count": null,
      "outputs": []
    },
    {
      "cell_type": "markdown",
      "source": [
        "# 3. Working with 2d arrays "
      ],
      "metadata": {
        "id": "YyDHdPTg5k0d"
      }
    },
    {
      "cell_type": "code",
      "source": [
        "#we can create random ones in a similar way\n",
        "\n",
        "mat = np.random.rand(5,10) #we pass a tuple that defines the shape of the data that we want to generate"
      ],
      "metadata": {
        "id": "MM1N0Zt-5qN8"
      },
      "execution_count": null,
      "outputs": []
    },
    {
      "cell_type": "code",
      "source": [
        "# this tells us the shape, it should look different from the 1d array we made above\n",
        "print(mat.shape) "
      ],
      "metadata": {
        "id": "feTxP2FF52ap"
      },
      "execution_count": null,
      "outputs": []
    },
    {
      "cell_type": "code",
      "source": [
        "print(mat) #note how this array is defined"
      ],
      "metadata": {
        "id": "-Raeb0xW6Ujz"
      },
      "execution_count": null,
      "outputs": []
    },
    {
      "cell_type": "code",
      "source": [
        "#you cannot plot this with plt.plot anymore, since plot only works with 1d arrays\n",
        "#in this case, we use \"imshow\"\n",
        "plt.imshow?\n"
      ],
      "metadata": {
        "id": "x1K3G_bB59eh"
      },
      "execution_count": null,
      "outputs": []
    },
    {
      "cell_type": "code",
      "source": [
        "plt.imshow(mat)\n",
        "plt.colorbar() #we should figure out how colors are mapped to values"
      ],
      "metadata": {
        "id": "LgRSpXqb6MAd"
      },
      "execution_count": null,
      "outputs": []
    },
    {
      "cell_type": "code",
      "source": [
        "#add some axes!"
      ],
      "metadata": {
        "id": "fcvG1p3R6dJ1"
      },
      "execution_count": null,
      "outputs": []
    },
    {
      "cell_type": "markdown",
      "source": [
        "# 4. Accessing individual datapoints within arrays\n",
        "  - using slice syntax `[]`\n",
        "    - use numerical indices, starting at 0, for each dimension that will be accessed\n",
        "    - you _can_ get fancy too https://numpy.org/doc/stable/user/basics.indexing.html#basics-indexing\n",
        "    - use `:`to denote \"all\" or \"the remainder\" in a dimension\n",
        "      - e.g., `vec[:]` is the entire vector, `vec[1:]` is from the 1st element (i.e., the _2nd_ element in the vector because python is 0-based) to the end of the vector\n",
        "  - indexing can get complicated, **always** test what you are doing with some sample data to confirm your understanding"
      ],
      "metadata": {
        "id": "uYgck-Wd8Jhm"
      }
    },
    {
      "cell_type": "code",
      "source": [
        "#lets create a simple vector\n",
        "vec = np.array([0.5,10,22,5,33]) #can use np.array() to explicitly create an array\n",
        "a_list = [1,2,3,4] #this creates a list, which is a basic Python type and cannot be used to do everything that np.array can be used to do! \n",
        "print(vec)\n",
        "print(a_list) #but they look the same when you print them!"
      ],
      "metadata": {
        "id": "_YvMTMQz8JFx"
      },
      "execution_count": null,
      "outputs": []
    },
    {
      "cell_type": "code",
      "source": [
        "print(type(vec)) #but these variables have different types\n",
        "print(type(a_list))"
      ],
      "metadata": {
        "id": "fdmPZrvG8xNp"
      },
      "execution_count": null,
      "outputs": []
    },
    {
      "cell_type": "code",
      "source": [
        "#so lets convert that list to an array\n",
        "an_array = np.array(a_list) #easy!"
      ],
      "metadata": {
        "id": "d-qIZ6t488US"
      },
      "execution_count": null,
      "outputs": []
    },
    {
      "cell_type": "code",
      "source": [
        "#python is 0-based, 0 corresponds to the first element in the given dimension\n",
        "#for this 1d array, we only need one indexing value\n",
        "print(vec[0]) # the fist element of the array"
      ],
      "metadata": {
        "id": "wEueQmK79Cbh"
      },
      "execution_count": null,
      "outputs": []
    },
    {
      "cell_type": "code",
      "source": [
        "print(vec[3])"
      ],
      "metadata": {
        "id": "-IV-Mdvj9Tlj"
      },
      "execution_count": null,
      "outputs": []
    },
    {
      "cell_type": "code",
      "source": [
        "#we do the same thing for multi-dimensional arrays, except we need to specify as many indices as there are dimensions\n",
        "mat = np.array([[0,1],[10,20],[30,40]])\n",
        "print(mat)\n",
        "print(f\"matrix shape: {mat.shape}\")"
      ],
      "metadata": {
        "id": "cZ0BRoA09X0q"
      },
      "execution_count": null,
      "outputs": []
    },
    {
      "cell_type": "code",
      "source": [
        "print(mat[0]) #gives us the first element of the array, does it do what was expected?"
      ],
      "metadata": {
        "id": "672PRZ179jwG"
      },
      "execution_count": null,
      "outputs": []
    },
    {
      "cell_type": "code",
      "source": [
        "# a clearer and unambiguous way to select a row\n",
        "print(mat[0,:]) #0zth row, all elements\n"
      ],
      "metadata": {
        "id": "RhWSBCyVKAAu"
      },
      "execution_count": null,
      "outputs": []
    },
    {
      "cell_type": "code",
      "source": [
        "# to get specific element in the array, specify all dimensions\n",
        "print(mat[0,2]) #what is wrong here?"
      ],
      "metadata": {
        "id": "1gV0bORjKO6o"
      },
      "execution_count": null,
      "outputs": []
    },
    {
      "cell_type": "code",
      "source": [
        "print(mat[2,1])"
      ],
      "metadata": {
        "id": "Yo8JPGc9K8T-"
      },
      "execution_count": null,
      "outputs": []
    },
    {
      "cell_type": "code",
      "source": [
        "#we can also select multiple elements from within the array with more complex syntax\n",
        "print(mat[1:,:])\n",
        "print(\"\") #prints a carriage return between outputs\n",
        "print(mat[(1,2),:])\n",
        "print(\"\")\n",
        "print(mat[(0,2),:])"
      ],
      "metadata": {
        "id": "eWQDSNXPLCid"
      },
      "execution_count": null,
      "outputs": []
    },
    {
      "cell_type": "code",
      "source": [
        "# practice indexing a 3d array\n",
        "import numpy as np\n",
        "vol = np.random.rand(4,4,4) #lets start small, so that we can see it\n",
        "print(vol) #again, look at how this is stored, it is a concatenation 2d arrays (which, in turn, are concatenations of 1d arrays)"
      ],
      "metadata": {
        "id": "bM5XlkcMLpDo"
      },
      "execution_count": null,
      "outputs": []
    },
    {
      "cell_type": "code",
      "source": [
        "print(vol[0,0,0]) "
      ],
      "metadata": {
        "id": "L5rR58lu0op4"
      },
      "execution_count": null,
      "outputs": []
    },
    {
      "cell_type": "code",
      "source": [
        "#it is hard to know where we are, so lets overwrite this vol variable with something easier to follow\n",
        "#to do so, we create an empty array (with zeros, but we could fill it with anything) then we create incremental values from 0 to the total number of elements in the array, then we fill the array with the values\n",
        "el_per_dim = 4 #number of elements per dimension\n",
        "np.zeros?\n",
        "vol = np.zeros((el_per_dim,el_per_dim,el_per_dim)) #create an array of zeros\n",
        "incremental_values_vec = np.arange(0,el_per_dim**3) #we need this many values, incrementing by one\n",
        "vol[:] = incremental_values_vec.reshape((el_per_dim,el_per_dim,el_per_dim)) #overwriting the contents of the array"
      ],
      "metadata": {
        "id": "QMrrsXvl061t"
      },
      "execution_count": null,
      "outputs": []
    },
    {
      "cell_type": "code",
      "source": [
        "print(vol) #wwhy does this work?"
      ],
      "metadata": {
        "id": "KZvF8pNf1rZ2"
      },
      "execution_count": null,
      "outputs": []
    },
    {
      "cell_type": "code",
      "source": [
        "# hmmm, we didn´t even need to create an empty array to start with!\n",
        "vol = incremental_values_vec.reshape((el_per_dim,el_per_dim,el_per_dim)) #gives us everything we want!"
      ],
      "metadata": {
        "id": "gmDCiNZp2A7s"
      },
      "execution_count": null,
      "outputs": []
    },
    {
      "cell_type": "code",
      "source": [
        "#now see if you can grab specific values from this array\n",
        "vol[0,1,3]\n"
      ],
      "metadata": {
        "id": "PXNM_Qvf2Qqg"
      },
      "execution_count": null,
      "outputs": []
    },
    {
      "cell_type": "code",
      "source": [
        "#try plotting each of the 2d arrays that make up this array\n",
        "\n"
      ],
      "metadata": {
        "id": "dZE-KtCl2UtT"
      },
      "execution_count": null,
      "outputs": []
    }
  ]
}